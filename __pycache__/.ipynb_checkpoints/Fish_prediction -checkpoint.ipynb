{
 "cells": [
  {
   "cell_type": "code",
   "execution_count": 1,
   "id": "d023a69c",
   "metadata": {},
   "outputs": [],
   "source": [
    "import pandas as pd\n",
    "import numpy as np"
   ]
  },
  {
   "cell_type": "code",
   "execution_count": 2,
   "id": "812439f7-11a2-4a43-9b2a-469c6066fb9c",
   "metadata": {},
   "outputs": [],
   "source": [
    "from sklearn.metrics import accuracy_score"
   ]
  },
  {
   "cell_type": "code",
   "execution_count": 3,
   "id": "c30e9080",
   "metadata": {},
   "outputs": [],
   "source": [
    "data = pd.read_csv(\"realfishdataset.csv\")"
   ]
  },
  {
   "cell_type": "code",
   "execution_count": 4,
   "id": "bf8be753",
   "metadata": {
    "scrolled": true
   },
   "outputs": [
    {
     "data": {
      "text/html": [
       "<div>\n",
       "<style scoped>\n",
       "    .dataframe tbody tr th:only-of-type {\n",
       "        vertical-align: middle;\n",
       "    }\n",
       "\n",
       "    .dataframe tbody tr th {\n",
       "        vertical-align: top;\n",
       "    }\n",
       "\n",
       "    .dataframe thead th {\n",
       "        text-align: right;\n",
       "    }\n",
       "</style>\n",
       "<table border=\"1\" class=\"dataframe\">\n",
       "  <thead>\n",
       "    <tr style=\"text-align: right;\">\n",
       "      <th></th>\n",
       "      <th>ph</th>\n",
       "      <th>temperature</th>\n",
       "      <th>turbidity</th>\n",
       "      <th>fish</th>\n",
       "    </tr>\n",
       "  </thead>\n",
       "  <tbody>\n",
       "    <tr>\n",
       "      <th>0</th>\n",
       "      <td>6.0</td>\n",
       "      <td>27.0</td>\n",
       "      <td>4.0</td>\n",
       "      <td>katla</td>\n",
       "    </tr>\n",
       "    <tr>\n",
       "      <th>1</th>\n",
       "      <td>7.6</td>\n",
       "      <td>28.0</td>\n",
       "      <td>5.9</td>\n",
       "      <td>sing</td>\n",
       "    </tr>\n",
       "    <tr>\n",
       "      <th>2</th>\n",
       "      <td>7.8</td>\n",
       "      <td>27.0</td>\n",
       "      <td>5.5</td>\n",
       "      <td>sing</td>\n",
       "    </tr>\n",
       "    <tr>\n",
       "      <th>3</th>\n",
       "      <td>6.5</td>\n",
       "      <td>31.0</td>\n",
       "      <td>5.5</td>\n",
       "      <td>katla</td>\n",
       "    </tr>\n",
       "    <tr>\n",
       "      <th>4</th>\n",
       "      <td>8.2</td>\n",
       "      <td>27.0</td>\n",
       "      <td>8.5</td>\n",
       "      <td>prawn</td>\n",
       "    </tr>\n",
       "    <tr>\n",
       "      <th>5</th>\n",
       "      <td>6.9</td>\n",
       "      <td>25.0</td>\n",
       "      <td>4.0</td>\n",
       "      <td>katla</td>\n",
       "    </tr>\n",
       "    <tr>\n",
       "      <th>6</th>\n",
       "      <td>7.3</td>\n",
       "      <td>30.0</td>\n",
       "      <td>4.0</td>\n",
       "      <td>katla</td>\n",
       "    </tr>\n",
       "    <tr>\n",
       "      <th>7</th>\n",
       "      <td>7.2</td>\n",
       "      <td>29.0</td>\n",
       "      <td>4.0</td>\n",
       "      <td>katla</td>\n",
       "    </tr>\n",
       "    <tr>\n",
       "      <th>8</th>\n",
       "      <td>7.5</td>\n",
       "      <td>32.0</td>\n",
       "      <td>4.0</td>\n",
       "      <td>katla</td>\n",
       "    </tr>\n",
       "    <tr>\n",
       "      <th>9</th>\n",
       "      <td>7.7</td>\n",
       "      <td>22.0</td>\n",
       "      <td>6.0</td>\n",
       "      <td>rui</td>\n",
       "    </tr>\n",
       "  </tbody>\n",
       "</table>\n",
       "</div>"
      ],
      "text/plain": [
       "    ph  temperature  turbidity   fish\n",
       "0  6.0         27.0        4.0  katla\n",
       "1  7.6         28.0        5.9   sing\n",
       "2  7.8         27.0        5.5   sing\n",
       "3  6.5         31.0        5.5  katla\n",
       "4  8.2         27.0        8.5  prawn\n",
       "5  6.9         25.0        4.0  katla\n",
       "6  7.3         30.0        4.0  katla\n",
       "7  7.2         29.0        4.0  katla\n",
       "8  7.5         32.0        4.0  katla\n",
       "9  7.7         22.0        6.0    rui"
      ]
     },
     "execution_count": 4,
     "metadata": {},
     "output_type": "execute_result"
    }
   ],
   "source": [
    "data.head(10)"
   ]
  },
  {
   "cell_type": "code",
   "execution_count": 5,
   "id": "de970a50",
   "metadata": {},
   "outputs": [
    {
     "data": {
      "text/html": [
       "<div>\n",
       "<style scoped>\n",
       "    .dataframe tbody tr th:only-of-type {\n",
       "        vertical-align: middle;\n",
       "    }\n",
       "\n",
       "    .dataframe tbody tr th {\n",
       "        vertical-align: top;\n",
       "    }\n",
       "\n",
       "    .dataframe thead th {\n",
       "        text-align: right;\n",
       "    }\n",
       "</style>\n",
       "<table border=\"1\" class=\"dataframe\">\n",
       "  <thead>\n",
       "    <tr style=\"text-align: right;\">\n",
       "      <th></th>\n",
       "      <th>ph</th>\n",
       "      <th>temperature</th>\n",
       "      <th>turbidity</th>\n",
       "    </tr>\n",
       "  </thead>\n",
       "  <tbody>\n",
       "    <tr>\n",
       "      <th>count</th>\n",
       "      <td>40280.000000</td>\n",
       "      <td>40280.000000</td>\n",
       "      <td>40280.000000</td>\n",
       "    </tr>\n",
       "    <tr>\n",
       "      <th>mean</th>\n",
       "      <td>7.512655</td>\n",
       "      <td>22.000871</td>\n",
       "      <td>4.463909</td>\n",
       "    </tr>\n",
       "    <tr>\n",
       "      <th>std</th>\n",
       "      <td>0.810823</td>\n",
       "      <td>4.575368</td>\n",
       "      <td>2.132095</td>\n",
       "    </tr>\n",
       "    <tr>\n",
       "      <th>min</th>\n",
       "      <td>5.500000</td>\n",
       "      <td>4.000000</td>\n",
       "      <td>1.000000</td>\n",
       "    </tr>\n",
       "    <tr>\n",
       "      <th>25%</th>\n",
       "      <td>6.950000</td>\n",
       "      <td>18.000000</td>\n",
       "      <td>3.480000</td>\n",
       "    </tr>\n",
       "    <tr>\n",
       "      <th>50%</th>\n",
       "      <td>7.500000</td>\n",
       "      <td>21.120000</td>\n",
       "      <td>3.570000</td>\n",
       "    </tr>\n",
       "    <tr>\n",
       "      <th>75%</th>\n",
       "      <td>8.180000</td>\n",
       "      <td>25.000000</td>\n",
       "      <td>4.120000</td>\n",
       "    </tr>\n",
       "    <tr>\n",
       "      <th>max</th>\n",
       "      <td>9.000000</td>\n",
       "      <td>35.000000</td>\n",
       "      <td>15.800000</td>\n",
       "    </tr>\n",
       "  </tbody>\n",
       "</table>\n",
       "</div>"
      ],
      "text/plain": [
       "                 ph   temperature     turbidity\n",
       "count  40280.000000  40280.000000  40280.000000\n",
       "mean       7.512655     22.000871      4.463909\n",
       "std        0.810823      4.575368      2.132095\n",
       "min        5.500000      4.000000      1.000000\n",
       "25%        6.950000     18.000000      3.480000\n",
       "50%        7.500000     21.120000      3.570000\n",
       "75%        8.180000     25.000000      4.120000\n",
       "max        9.000000     35.000000     15.800000"
      ]
     },
     "execution_count": 5,
     "metadata": {},
     "output_type": "execute_result"
    }
   ],
   "source": [
    "data.describe()"
   ]
  },
  {
   "cell_type": "code",
   "execution_count": 6,
   "id": "2780cb43",
   "metadata": {},
   "outputs": [
    {
     "name": "stdout",
     "output_type": "stream",
     "text": [
      "<class 'pandas.core.frame.DataFrame'>\n",
      "RangeIndex: 40280 entries, 0 to 40279\n",
      "Data columns (total 4 columns):\n",
      " #   Column       Non-Null Count  Dtype  \n",
      "---  ------       --------------  -----  \n",
      " 0   ph           40280 non-null  float64\n",
      " 1   temperature  40280 non-null  float64\n",
      " 2   turbidity    40280 non-null  float64\n",
      " 3   fish         40280 non-null  object \n",
      "dtypes: float64(3), object(1)\n",
      "memory usage: 1.2+ MB\n"
     ]
    }
   ],
   "source": [
    "data.info()"
   ]
  },
  {
   "cell_type": "code",
   "execution_count": 7,
   "id": "5d4128cd",
   "metadata": {},
   "outputs": [
    {
     "data": {
      "text/plain": [
       "array(['katla', 'sing', 'prawn', 'rui', 'koi', 'pangas', 'tilapia',\n",
       "       'silverCup', 'karpio', 'magur', 'shrimp'], dtype=object)"
      ]
     },
     "execution_count": 7,
     "metadata": {},
     "output_type": "execute_result"
    }
   ],
   "source": [
    "data[\"fish\"].unique()"
   ]
  },
  {
   "cell_type": "code",
   "execution_count": 8,
   "id": "faa10f3c",
   "metadata": {},
   "outputs": [],
   "source": [
    "import matplotlib.pyplot as plt\n",
    "import seaborn as sns\n",
    "import scipy.stats as stats"
   ]
  },
  {
   "cell_type": "code",
   "execution_count": 9,
   "id": "64f5e46c",
   "metadata": {
    "scrolled": true
   },
   "outputs": [
    {
     "data": {
      "image/png": "[encoded data removed]",
      "text/plain": [
       "<Figure size 800x600 with 1 Axes>"
      ]
     },
     "metadata": {},
     "output_type": "display_data"
    }
   ],
   "source": [
    "# Histogram plot\n",
    "plt.figure(figsize=(8, 6))\n",
    "sns.histplot(data, kde=True, color='skyblue', bins=30)\n",
    "plt.title('Histogram Plot')\n",
    "plt.xlabel('Values')\n",
    "plt.ylabel('Frequency')\n",
    "plt.show()"
   ]
  },
  {
   "cell_type": "code",
   "execution_count": 10,
   "id": "9d10dd18",
   "metadata": {},
   "outputs": [
    {
     "data": {
      "text/html": [
       "<div>\n",
       "<style scoped>\n",
       "    .dataframe tbody tr th:only-of-type {\n",
       "        vertical-align: middle;\n",
       "    }\n",
       "\n",
       "    .dataframe tbody tr th {\n",
       "        vertical-align: top;\n",
       "    }\n",
       "\n",
       "    .dataframe thead th {\n",
       "        text-align: right;\n",
       "    }\n",
       "</style>\n",
       "<table border=\"1\" class=\"dataframe\">\n",
       "  <thead>\n",
       "    <tr style=\"text-align: right;\">\n",
       "      <th></th>\n",
       "      <th>ph</th>\n",
       "      <th>temperature</th>\n",
       "      <th>turbidity</th>\n",
       "    </tr>\n",
       "  </thead>\n",
       "  <tbody>\n",
       "    <tr>\n",
       "      <th>0</th>\n",
       "      <td>6.00</td>\n",
       "      <td>27.00</td>\n",
       "      <td>4.00</td>\n",
       "    </tr>\n",
       "    <tr>\n",
       "      <th>1</th>\n",
       "      <td>7.60</td>\n",
       "      <td>28.00</td>\n",
       "      <td>5.90</td>\n",
       "    </tr>\n",
       "    <tr>\n",
       "      <th>2</th>\n",
       "      <td>7.80</td>\n",
       "      <td>27.00</td>\n",
       "      <td>5.50</td>\n",
       "    </tr>\n",
       "    <tr>\n",
       "      <th>3</th>\n",
       "      <td>6.50</td>\n",
       "      <td>31.00</td>\n",
       "      <td>5.50</td>\n",
       "    </tr>\n",
       "    <tr>\n",
       "      <th>4</th>\n",
       "      <td>8.20</td>\n",
       "      <td>27.00</td>\n",
       "      <td>8.50</td>\n",
       "    </tr>\n",
       "    <tr>\n",
       "      <th>...</th>\n",
       "      <td>...</td>\n",
       "      <td>...</td>\n",
       "      <td>...</td>\n",
       "    </tr>\n",
       "    <tr>\n",
       "      <th>40275</th>\n",
       "      <td>6.99</td>\n",
       "      <td>21.19</td>\n",
       "      <td>3.56</td>\n",
       "    </tr>\n",
       "    <tr>\n",
       "      <th>40276</th>\n",
       "      <td>6.87</td>\n",
       "      <td>21.00</td>\n",
       "      <td>3.56</td>\n",
       "    </tr>\n",
       "    <tr>\n",
       "      <th>40277</th>\n",
       "      <td>6.68</td>\n",
       "      <td>21.19</td>\n",
       "      <td>3.58</td>\n",
       "    </tr>\n",
       "    <tr>\n",
       "      <th>40278</th>\n",
       "      <td>6.95</td>\n",
       "      <td>21.12</td>\n",
       "      <td>3.58</td>\n",
       "    </tr>\n",
       "    <tr>\n",
       "      <th>40279</th>\n",
       "      <td>6.50</td>\n",
       "      <td>21.00</td>\n",
       "      <td>5.00</td>\n",
       "    </tr>\n",
       "  </tbody>\n",
       "</table>\n",
       "<p>40280 rows × 3 columns</p>\n",
       "</div>"
      ],
      "text/plain": [
       "         ph  temperature  turbidity\n",
       "0      6.00        27.00       4.00\n",
       "1      7.60        28.00       5.90\n",
       "2      7.80        27.00       5.50\n",
       "3      6.50        31.00       5.50\n",
       "4      8.20        27.00       8.50\n",
       "...     ...          ...        ...\n",
       "40275  6.99        21.19       3.56\n",
       "40276  6.87        21.00       3.56\n",
       "40277  6.68        21.19       3.58\n",
       "40278  6.95        21.12       3.58\n",
       "40279  6.50        21.00       5.00\n",
       "\n",
       "[40280 rows x 3 columns]"
      ]
     },
     "execution_count": 10,
     "metadata": {},
     "output_type": "execute_result"
    }
   ],
   "source": [
    "x_data = data.drop(columns=['fish'])\n",
    "x_data"
   ]
  },
  {
   "cell_type": "code",
   "execution_count": 11,
   "id": "ba80aa5c",
   "metadata": {},
   "outputs": [
    {
     "name": "stdout",
     "output_type": "stream",
     "text": [
      "Shapiro-Wilk Test:\n",
      "Test Statistic: 0.8308407414430297, p-value: 1.389130038280351e-131\n",
      "The data does not appear to be normally distributed.\n"
     ]
    },
    {
     "name": "stderr",
     "output_type": "stream",
     "text": [
      "c:\\users\\balram pandey\\appdata\\local\\programs\\python\\python39\\lib\\site-packages\\scipy\\stats\\_axis_nan_policy.py:531: UserWarning: scipy.stats.shapiro: For N > 5000, computed p-value may not be accurate. Current N is 120840.\n",
      "  res = hypotest_fun_out(*samples, **kwds)\n"
     ]
    }
   ],
   "source": [
    "# Shapiro-Wilk test\n",
    "statistic, p_value = stats.shapiro(x_data)\n",
    "print(\"Shapiro-Wilk Test:\")\n",
    "print(f\"Test Statistic: {statistic}, p-value: {p_value}\")\n",
    "if p_value > 0.05:\n",
    "    print(\"The data appears to be normally distributed.\")\n",
    "else:\n",
    "    print(\"The data does not appear to be normally distributed.\")"
   ]
  },
  {
   "cell_type": "markdown",
   "id": "0a2d14c2",
   "metadata": {},
   "source": [
    "we see that the data is not normally distributed"
   ]
  },
  {
   "cell_type": "markdown",
   "id": "817a3031",
   "metadata": {},
   "source": [
    "# Checking for ouliers if any "
   ]
  },
  {
   "cell_type": "code",
   "execution_count": 12,
   "id": "389335c8",
   "metadata": {},
   "outputs": [
    {
     "data": {
      "image/png": "[encoded data removed]",
      "text/plain": [
       "<Figure size 600x400 with 1 Axes>"
      ]
     },
     "metadata": {},
     "output_type": "display_data"
    }
   ],
   "source": [
    "# Box plot\n",
    "plt.figure(figsize=(6, 4))\n",
    "sns.boxplot(data=data)\n",
    "plt.title('Box Plot')\n",
    "plt.show()\n"
   ]
  },
  {
   "cell_type": "code",
   "execution_count": 13,
   "id": "b0db2ef9",
   "metadata": {},
   "outputs": [
    {
     "name": "stdout",
     "output_type": "stream",
     "text": [
      "Outliers:\n",
      "        ph  temperature  turbidity\n",
      "112    7.0          5.0       5.00\n",
      "127    7.3          7.0       9.20\n",
      "128    7.5          8.0       5.30\n",
      "138    7.2          4.0       9.30\n",
      "139    7.3          6.0       9.30\n",
      "...    ...          ...        ...\n",
      "39835  7.5         26.0      15.40\n",
      "39836  7.6         27.0      15.50\n",
      "39837  7.7         28.0      15.70\n",
      "39838  7.8         29.0      15.80\n",
      "39839  7.9         30.0      15.19\n",
      "\n",
      "[1216 rows x 3 columns]\n"
     ]
    }
   ],
   "source": [
    "# Calculate Z-scores\n",
    "z_scores = np.abs((x_data - x_data.mean()) / x_data.std())\n",
    "\n",
    "threshold = 3\n",
    "\n",
    "outliers = z_scores > threshold\n",
    "\n",
    "print(\"Outliers:\")\n",
    "print(x_data[outliers.any(axis=1)])"
   ]
  },
  {
   "cell_type": "code",
   "execution_count": 14,
   "id": "ee4b3e87",
   "metadata": {},
   "outputs": [
    {
     "name": "stdout",
     "output_type": "stream",
     "text": [
      "Cleaned DataFrame:\n",
      "         ph  temperature  turbidity\n",
      "0      6.00        27.00       4.00\n",
      "1      7.60        28.00       5.90\n",
      "2      7.80        27.00       5.50\n",
      "3      6.50        31.00       5.50\n",
      "4      8.20        27.00       8.50\n",
      "...     ...          ...        ...\n",
      "40275  6.99        21.19       3.56\n",
      "40276  6.87        21.00       3.56\n",
      "40277  6.68        21.19       3.58\n",
      "40278  6.95        21.12       3.58\n",
      "40279  6.50        21.00       5.00\n",
      "\n",
      "[39064 rows x 3 columns]\n"
     ]
    }
   ],
   "source": [
    "cleaned_df = x_data[~outliers.any(axis=1)]  \n",
    "\n",
    "print(\"Cleaned DataFrame:\")\n",
    "print(cleaned_df)"
   ]
  },
  {
   "cell_type": "code",
   "execution_count": 15,
   "id": "c393376e",
   "metadata": {},
   "outputs": [
    {
     "name": "stdout",
     "output_type": "stream",
     "text": [
      "\n",
      "Cleaned Dependent Column:\n",
      "0          katla\n",
      "1           sing\n",
      "2           sing\n",
      "3          katla\n",
      "4          prawn\n",
      "          ...   \n",
      "40275       sing\n",
      "40276       sing\n",
      "40277       sing\n",
      "40278       sing\n",
      "40279    tilapia\n",
      "Name: fish, Length: 39064, dtype: object\n"
     ]
    }
   ],
   "source": [
    "cleaned_dependent_column = data.loc[~outliers.any(axis=1), 'fish']\n",
    "print(\"\\nCleaned Dependent Column:\")\n",
    "print(cleaned_dependent_column)"
   ]
  },
  {
   "cell_type": "markdown",
   "id": "644f41d7",
   "metadata": {},
   "source": [
    "# Normalizing the data"
   ]
  },
  {
   "cell_type": "code",
   "execution_count": 16,
   "id": "2ae78d23",
   "metadata": {},
   "outputs": [],
   "source": [
    "from sklearn.preprocessing import MinMaxScaler"
   ]
  },
  {
   "cell_type": "code",
   "execution_count": 17,
   "id": "78d113af",
   "metadata": {
    "scrolled": true
   },
   "outputs": [
    {
     "name": "stdout",
     "output_type": "stream",
     "text": [
      "Normalized data:\n",
      "[[0.14285714 0.69230769 0.33333333]\n",
      " [0.6        0.73076923 0.54444444]\n",
      " [0.65714286 0.69230769 0.5       ]\n",
      " ...\n",
      " [0.33714286 0.46884615 0.28666667]\n",
      " [0.41428571 0.46615385 0.28666667]\n",
      " [0.28571429 0.46153846 0.44444444]]\n"
     ]
    }
   ],
   "source": [
    "scaler = MinMaxScaler()\n",
    "normalized_data = scaler.fit_transform(cleaned_df)\n",
    "\n",
    "print(\"Normalized data:\")\n",
    "print(normalized_data)"
   ]
  },
  {
   "cell_type": "markdown",
   "id": "8c7294d1",
   "metadata": {},
   "source": [
    "# Splitting data into test and training data"
   ]
  },
  {
   "cell_type": "code",
   "execution_count": 18,
   "id": "0dd7e5a2",
   "metadata": {},
   "outputs": [],
   "source": [
    "from sklearn.model_selection import train_test_split\n",
    "\n",
    "X_train, X_test, y_train, y_test = train_test_split(normalized_data, cleaned_dependent_column, test_size=0.2, random_state=42)\n"
   ]
  },
  {
   "cell_type": "code",
   "execution_count": 19,
   "id": "d842b327",
   "metadata": {},
   "outputs": [
    {
     "data": {
      "text/plain": [
       "<bound method NDFrame.head of 20310         sing\n",
       "34933      tilapia\n",
       "17904    silverCup\n",
       "35101    silverCup\n",
       "6866        shrimp\n",
       "           ...    \n",
       "6460           rui\n",
       "11645      tilapia\n",
       "39355      tilapia\n",
       "898          katla\n",
       "16289          rui\n",
       "Name: fish, Length: 31251, dtype: object>"
      ]
     },
     "execution_count": 19,
     "metadata": {},
     "output_type": "execute_result"
    }
   ],
   "source": [
    "y_train.head"
   ]
  },
  {
   "cell_type": "markdown",
   "id": "4cd5dc25",
   "metadata": {},
   "source": [
    "# Model training and predicting"
   ]
  },
  {
   "cell_type": "code",
   "execution_count": 20,
   "id": "3ed425d2",
   "metadata": {},
   "outputs": [
    {
     "name": "stdout",
     "output_type": "stream",
     "text": [
      "Naive Bayes Model Accuracy: 0.480865224625624\n"
     ]
    }
   ],
   "source": [
    "from sklearn.naive_bayes import GaussianNB\n",
    "\n",
    "# Initialize and fit Naive Bayes model\n",
    "nb_model = GaussianNB()\n",
    "nb_model.fit(X_train, y_train)\n",
    "\n",
    "# Predict\n",
    "y_pred_nb = nb_model.predict(X_test)\n",
    "\n",
    "# Evaluate accuracy\n",
    "accuracy_nb = accuracy_score(y_test, y_pred_nb)\n",
    "print(\"Naive Bayes Model Accuracy:\", accuracy_nb)\n"
   ]
  },
  {
   "cell_type": "code",
   "execution_count": 21,
   "id": "283a291a",
   "metadata": {},
   "outputs": [
    {
     "name": "stdout",
     "output_type": "stream",
     "text": [
      "Random Forest Model Accuracy: 0.997440163829515\n"
     ]
    }
   ],
   "source": [
    "from sklearn.ensemble import RandomForestClassifier\n",
    "\n",
    "# Initialize and fit Random Forest model\n",
    "rf_model = RandomForestClassifier()\n",
    "rf_model.fit(X_train, y_train)\n",
    "\n",
    "# Predict\n",
    "y_pred_rf = rf_model.predict(X_test)\n",
    "\n",
    "# Evaluate accuracy\n",
    "accuracy_rf = accuracy_score(y_test, y_pred_rf)\n",
    "print(\"Random Forest Model Accuracy:\", accuracy_rf)\n"
   ]
  }
 ],
 "metadata": {
  "kernelspec": {
   "display_name": "Python 3 (ipykernel)",
   "language": "python",
   "name": "python3"
  },
  "language_info": {
   "codemirror_mode": {
    "name": "ipython",
    "version": 3
   },
   "file_extension": ".py",
   "mimetype": "text/x-python",
   "name": "python",
   "nbconvert_exporter": "python",
   "pygments_lexer": "ipython3",
   "version": "3.9.1"
  }
 },
 "nbformat": 4,
 "nbformat_minor": 5
}
